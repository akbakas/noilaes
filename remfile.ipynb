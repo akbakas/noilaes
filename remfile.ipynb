{
 "cells": [
  {
   "cell_type": "code",
   "execution_count": 1,
   "source": [
    "import cv2\n",
    "import os\n",
    "import matplotlib.pyplot as plt\n",
    "import numpy as np\n",
    "import glob\n",
    "\n",
    "from utils import (singles, xywh2xyxy, xywhRead, relax, cropLarge)"
   ],
   "outputs": [],
   "metadata": {}
  },
  {
   "cell_type": "code",
   "execution_count": 2,
   "source": [
    "testDir = 'test'\n",
    "trainDir = 'train'\n",
    "\n",
    "singleBBox = singles(testDir)\n"
   ],
   "outputs": [],
   "metadata": {}
  },
  {
   "cell_type": "code",
   "execution_count": 31,
   "source": [
    "def cropLarge(img: \"np.array\", size: int) -> np.array:\n",
    "    \"\"\"\n",
    "    Crops large image into smaller ones\n",
    "    \"\"\"\n",
    "    assert img.ndim == 3, print(\"Image must have 3 dimension\")\n",
    "    h, w = img.shape[:-1]\n",
    "    wstride = int(w / size)\n",
    "    hstride = int(h/ size)\n",
    "    \n",
    "    for hor in range (0, size*wstride, size):\n",
    "        for ver in range(0, size*hstride, size):\n",
    "            print(hor, ver)\n",
    "            yield img[ver:ver+size, hor:hor+size, :]\n"
   ],
   "outputs": [],
   "metadata": {}
  },
  {
   "cell_type": "code",
   "execution_count": null,
   "source": [],
   "outputs": [],
   "metadata": {}
  },
  {
   "cell_type": "code",
   "execution_count": 33,
   "source": [
    "cropped = cropLarge(img, 1024)"
   ],
   "outputs": [],
   "metadata": {}
  }
 ],
 "metadata": {
  "orig_nbformat": 4,
  "language_info": {
   "name": "python",
   "version": "3.8.12",
   "mimetype": "text/x-python",
   "codemirror_mode": {
    "name": "ipython",
    "version": 3
   },
   "pygments_lexer": "ipython3",
   "nbconvert_exporter": "python",
   "file_extension": ".py"
  },
  "kernelspec": {
   "name": "python3",
   "display_name": "Python 3.8.8 64-bit ('ScaledYOLOv4': conda)"
  },
  "interpreter": {
   "hash": "38e74985276320b6cb101dce2d5e5148b8f688fd2093ffa7c34914a663f2e346"
  }
 },
 "nbformat": 4,
 "nbformat_minor": 2
}